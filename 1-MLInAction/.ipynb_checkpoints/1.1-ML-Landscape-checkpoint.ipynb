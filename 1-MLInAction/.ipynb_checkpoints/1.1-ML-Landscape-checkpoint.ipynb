{
 "cells": [
  {
   "cell_type": "markdown",
   "id": "2529e518",
   "metadata": {},
   "source": [
    "# 1.1 The Machine Learning Landscape\n",
    "\n",
    "### What is ML?\n",
    "\n",
    "Machine Learning, and Artificial Intelligence more broadly, are common buzz words thrown around to make methods of data analysis these days appear sophisticated and innovative. But what do these terms actual mean? What do they implicate?\n",
    "\n",
    "**Artificial Intelligence** (AI) is a broad field of computer sicence that aims to create software that can perform tasks that would typically require human intelligence. **Machine Learning** (ML) is a subset that involves the development of models that can make predictions/decisions without explicit programming.\n",
    "\n",
    "- The most common kind of ML model automates predictions by generalising from input data with known outcomes. This is called *supervised learning*. E.g:\n",
    "    + Image classification: identifying a species of plant, determining the malignancy of a tumour\n",
    "    + Predictive analytics: forecasting stock prices\n",
    "- *Unsupervised learning* extracts patterns from data without predefined outcomes. E.g:\n",
    "    + Clustering: grouping similar customers based on purchasing behaviour (without any predefined categories)\n",
    "    + Anomaly detection: identifying unusual patterns or outliers in data\n",
    "    \n",
    "### How can ML be implemented?\n",
    "\n",
    "Python is often used in data science and with ML because it is a general-purpose language."
   ]
  }
 ],
 "metadata": {
  "kernelspec": {
   "display_name": "Python 3 (ipykernel)",
   "language": "python",
   "name": "python3"
  },
  "language_info": {
   "codemirror_mode": {
    "name": "ipython",
    "version": 3
   },
   "file_extension": ".py",
   "mimetype": "text/x-python",
   "name": "python",
   "nbconvert_exporter": "python",
   "pygments_lexer": "ipython3",
   "version": "3.8.8"
  }
 },
 "nbformat": 4,
 "nbformat_minor": 5
}
