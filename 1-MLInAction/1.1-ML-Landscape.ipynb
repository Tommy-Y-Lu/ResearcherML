{
 "cells": [
  {
   "cell_type": "markdown",
   "id": "da574ed0",
   "metadata": {},
   "source": [
    "# The Machine Learning Landscape"
   ]
  },
  {
   "cell_type": "markdown",
   "id": "2529e518",
   "metadata": {},
   "source": [
    "## 1.1 ML is a subset of AI\n",
    "\n",
    "Machine Learning, and Artificial Intelligence more broadly, are common buzz words thrown around to make methods of data analysis these days appear sophisticated and innovative. But what do these terms actual mean? What do they implicate?\n",
    "\n",
    "- **Artificial Intelligence** (AI) is a broad field of computer sicence that aims to create software that can perform tasks that would typically require human intelligence.\n",
    "- **Machine Learning** (ML) is a subset that involves the development of models that can make predictions/decisions without explicit programming."
   ]
  },
  {
   "cell_type": "markdown",
   "id": "10919940",
   "metadata": {},
   "source": [
    "## 1.2 ML algorithms have 3 major classifications\n",
    "\n",
    "### 1.2.1 by training\n",
    "\n",
    "- Supervised learning (with labels)\n",
    "    + Classification, e.g. identifying a species of plant, determining the malignancy of a tumour\n",
    "    + Regression, e.g. forecasting reactivities\n",
    "- Unsupervised learning (without labels)\n",
    "    + Clustering, e.g.  grouping families of similar DNA sequences (without any predefined categories)\n",
    "    + Anomaly detection, e.g. identifying unusual patterns or outliers in data\n",
    "    + Dimension reduction\n",
    "    + Association rule learning\n",
    "+ Semi-supervised learning (with some labels)\n",
    "    + e.g. Google photos person ID\n",
    "+ Reinforcement learning (penalty/reward)\n",
    "    + e.g. AlphaGo\n",
    "\n",
    "### 1.2.2 by adaptability to data\n",
    "\n",
    "- Batch learning\n",
    "    + System is trained then launched. If the system needs to obtain new data, the whole system needs to be trained again.\n",
    "    + Takes a lot of time, memory, and computational power\n",
    "- Online learning\n",
    "    + System automatically updates with continuous flow of data\n",
    "    + Potential performance delcine due to updating poor, non-representative data\n",
    "\n",
    "### 1.2.3 by generalisation method\n",
    "\n",
    "- Instance-based learning\n",
    "    + Memorise values then make predictions based on a similarity measure\n",
    "    + e.g. K-nearest neighbours\n",
    "- Model-based learning\n",
    "    + Create a model based on values which is used independently to make predictions\n",
    "    + e.g. Least-squares regression"
   ]
  },
  {
   "cell_type": "markdown",
   "id": "c9ea5931",
   "metadata": {},
   "source": [
    "## 1.3 There are 2 main challenges for successful ML\n",
    "\n",
    "### 1.3.1 Bad data\n",
    "\n",
    "- Insufficient training data\n",
    "    + May need thousands or millions of data points\n",
    "- Non-representative training data\n",
    "    + Too small sample size, sampling noise\n",
    "    + Flawed sampling method, sampling bias\n",
    "- Poor-quality data\n",
    "    + Outliers\n",
    "    + Missing features\n",
    "- Irrelevant features\n",
    "    + May require feature engineering such as feature selection and extraction\n",
    "\n",
    "### 1.3.2 Bad algorithm\n",
    "\n",
    "- Overfitting\n",
    "    + Model is too complex relative to amount of data and noisiness of training set\n",
    "    + Solutions:\n",
    "        + Simplify/constain/regularise\n",
    "        + Gather more training data\n",
    "        + Reduce data noise (e.g. fix errors, remove outliers)\n",
    "- Underfitting\n",
    "    + Model too simple to understand the underlying structure of data\n",
    "    + Solutions:\n",
    "        + Select more powerful model\n",
    "        + Feed better features\n",
    "        + Reduce constraints"
   ]
  },
  {
   "cell_type": "markdown",
   "id": "fef479c1",
   "metadata": {},
   "source": [
    "## 1.4 ML requires testing and validation of models\n",
    "\n",
    "To assess the generalisation error of a model, typically a dataset will be split into 2 sets: **the training set and the test set**.\n",
    "\n",
    "The training set is used to develop the model, and then the error rate in predicting results in the test set is called the *generalisation error*.\n",
    "- Low training performance error but high generalisation error indicates overfitting.\n",
    "- Training set will often be ~80% of the dataset and the test set ~20%, but this is not a set rule.\n",
    "    + 1% of a 10 million instance dataset could be sufficient to assess generalisation.\n",
    "\n",
    "For additional rigour, you can also have a **validation set**, which is a subset of the training set.\n",
    "- Use of multiple small validation sets is called cross-validation\n",
    "- This can systematically improve a model before testing"
   ]
  }
 ],
 "metadata": {
  "kernelspec": {
   "display_name": "Python 3 (ipykernel)",
   "language": "python",
   "name": "python3"
  },
  "language_info": {
   "codemirror_mode": {
    "name": "ipython",
    "version": 3
   },
   "file_extension": ".py",
   "mimetype": "text/x-python",
   "name": "python",
   "nbconvert_exporter": "python",
   "pygments_lexer": "ipython3",
   "version": "3.8.8"
  }
 },
 "nbformat": 4,
 "nbformat_minor": 5
}
