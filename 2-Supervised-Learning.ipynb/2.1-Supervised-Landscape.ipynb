{
 "cells": [
  {
   "cell_type": "markdown",
   "metadata": {},
   "source": [
    "# 2.1 The Supervised Learning Landscape\n",
    "\n",
    "1. [Classification vs Regression](#supervised-learning-can-be-generally-delineated-in-two-classification-and-regression)\n",
    "2. [Important Terms](#important-concepts-to-understand)"
   ]
  },
  {
   "cell_type": "markdown",
   "metadata": {},
   "source": [
    "## Supervised learning can be generally delineated in two: Classification and Regression\n",
    "\n",
    "There are two major types of supervised learning ML algorithms.\n",
    "\n",
    "**Classification** describes the prediction of a class label from a predefined list of possibilities.\n",
    "- Binary classification: choice between 2 options\n",
    "- Multiclass classification: choice between more than 2 options\n",
    "\n",
    "**Regression** is the task of predicting a continuous (floating-point) number from a dataset."
   ]
  },
  {
   "cell_type": "markdown",
   "metadata": {},
   "source": [
    "## Important concepts to understand\n",
    "\n",
    "**Generalisation**: the ability of a model to make accurate predictions on unseen data (i.e. generalise from the training set to the test set)\n",
    "\n",
    "> Simple models generalise better to new data\n",
    "\n",
    "**Overfitting**: when a model too complex for the amount of data provided models too closely to the training set and poorly generalises to new data\n",
    "\n",
    "**Underfitting**: when a model is too simple and does not capture sufficient detail, performing badly on the trainig set and furthermore the test set"
   ]
  }
 ],
 "metadata": {
  "language_info": {
   "name": "python"
  }
 },
 "nbformat": 4,
 "nbformat_minor": 2
}
